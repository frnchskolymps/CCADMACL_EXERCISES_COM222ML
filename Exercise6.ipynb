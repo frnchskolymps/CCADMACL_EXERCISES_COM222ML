{
  "cells": [
    {
      "cell_type": "markdown",
      "metadata": {
        "colab_type": "text",
        "id": "view-in-github"
      },
      "source": [
        "<a href=\"https://colab.research.google.com/github/robitussin/CCADMACL_EXERCISES/blob/main/Exercise6.ipynb\" target=\"_parent\"><img src=\"https://colab.research.google.com/assets/colab-badge.svg\" alt=\"Open In Colab\"/></a>"
      ]
    },
    {
      "cell_type": "markdown",
      "metadata": {
        "id": "h0jQ8K584s34"
      },
      "source": [
        "# Exercise 6\n",
        "\n",
        "Netflix is the world's largest online streaming service provider, with over 220 million subscribers. It is crucial that they effectively cluster the shows that are hosted on their platform in order to enhance the user experience, thereby preventing subscribers from ending their subscription.\n",
        "\n",
        "We will be able to understand the shows that are similar to and different from one another by creating clusters, which may be leveraged to offer the consumers personalized show suggestions depending on their preferences."
      ]
    },
    {
      "cell_type": "markdown",
      "metadata": {
        "id": "khAqb9ta5ILQ"
      },
      "source": [
        "### Instructions\n",
        "\n",
        "1. Your task is to group the Netflix shows into certain clusters such that the shows within a cluster are similar to each other and the shows in different clusters are dissimilar to each other. Use Principal Component Analysis and any Clustering Algorithm.\n",
        "\n",
        "2. After creating the clusters, profile each cluster that you have created."
      ]
    },
    {
      "cell_type": "code",
      "execution_count": 73,
      "metadata": {
        "id": "59YGlRuj4g2w"
      },
      "outputs": [],
      "source": [
        "import pandas as pd"
      ]
    },
    {
      "cell_type": "code",
      "execution_count": 74,
      "metadata": {
        "id": "JT73Tz7a4cYs"
      },
      "outputs": [],
      "source": [
        "df = pd.read_csv(\"https://github.com/robitussin/CCADMACL_EXERCISES/blob/353cd84703a9e313ee7ecf37fb97a067aa81ddbc/netflix.csv?raw=true\")"
      ]
    },
    {
      "cell_type": "code",
      "execution_count": 75,
      "metadata": {
        "colab": {
          "base_uri": "https://localhost:8080/",
          "height": 362
        },
        "id": "y55rJO404kEl",
        "outputId": "6c8a96f3-9dca-4b19-d8d7-63cc53a048cd"
      },
      "outputs": [
        {
          "data": {
            "text/html": [
              "<div>\n",
              "<style scoped>\n",
              "    .dataframe tbody tr th:only-of-type {\n",
              "        vertical-align: middle;\n",
              "    }\n",
              "\n",
              "    .dataframe tbody tr th {\n",
              "        vertical-align: top;\n",
              "    }\n",
              "\n",
              "    .dataframe thead th {\n",
              "        text-align: right;\n",
              "    }\n",
              "</style>\n",
              "<table border=\"1\" class=\"dataframe\">\n",
              "  <thead>\n",
              "    <tr style=\"text-align: right;\">\n",
              "      <th></th>\n",
              "      <th>show_id</th>\n",
              "      <th>type</th>\n",
              "      <th>title</th>\n",
              "      <th>director</th>\n",
              "      <th>cast</th>\n",
              "      <th>country</th>\n",
              "      <th>date_added</th>\n",
              "      <th>release_year</th>\n",
              "      <th>rating</th>\n",
              "      <th>duration</th>\n",
              "      <th>listed_in</th>\n",
              "      <th>description</th>\n",
              "    </tr>\n",
              "  </thead>\n",
              "  <tbody>\n",
              "    <tr>\n",
              "      <th>0</th>\n",
              "      <td>s1</td>\n",
              "      <td>TV Show</td>\n",
              "      <td>3%</td>\n",
              "      <td>NaN</td>\n",
              "      <td>João Miguel, Bianca Comparato, Michel Gomes, R...</td>\n",
              "      <td>Brazil</td>\n",
              "      <td>August 14, 2020</td>\n",
              "      <td>2020</td>\n",
              "      <td>TV-MA</td>\n",
              "      <td>4 Seasons</td>\n",
              "      <td>International TV Shows, TV Dramas, TV Sci-Fi &amp;...</td>\n",
              "      <td>In a future where the elite inhabit an island ...</td>\n",
              "    </tr>\n",
              "    <tr>\n",
              "      <th>1</th>\n",
              "      <td>s2</td>\n",
              "      <td>Movie</td>\n",
              "      <td>7:19</td>\n",
              "      <td>Jorge Michel Grau</td>\n",
              "      <td>Demián Bichir, Héctor Bonilla, Oscar Serrano, ...</td>\n",
              "      <td>Mexico</td>\n",
              "      <td>December 23, 2016</td>\n",
              "      <td>2016</td>\n",
              "      <td>TV-MA</td>\n",
              "      <td>93 min</td>\n",
              "      <td>Dramas, International Movies</td>\n",
              "      <td>After a devastating earthquake hits Mexico Cit...</td>\n",
              "    </tr>\n",
              "    <tr>\n",
              "      <th>2</th>\n",
              "      <td>s3</td>\n",
              "      <td>Movie</td>\n",
              "      <td>23:59</td>\n",
              "      <td>Gilbert Chan</td>\n",
              "      <td>Tedd Chan, Stella Chung, Henley Hii, Lawrence ...</td>\n",
              "      <td>Singapore</td>\n",
              "      <td>December 20, 2018</td>\n",
              "      <td>2011</td>\n",
              "      <td>R</td>\n",
              "      <td>78 min</td>\n",
              "      <td>Horror Movies, International Movies</td>\n",
              "      <td>When an army recruit is found dead, his fellow...</td>\n",
              "    </tr>\n",
              "    <tr>\n",
              "      <th>3</th>\n",
              "      <td>s4</td>\n",
              "      <td>Movie</td>\n",
              "      <td>9</td>\n",
              "      <td>Shane Acker</td>\n",
              "      <td>Elijah Wood, John C. Reilly, Jennifer Connelly...</td>\n",
              "      <td>United States</td>\n",
              "      <td>November 16, 2017</td>\n",
              "      <td>2009</td>\n",
              "      <td>PG-13</td>\n",
              "      <td>80 min</td>\n",
              "      <td>Action &amp; Adventure, Independent Movies, Sci-Fi...</td>\n",
              "      <td>In a postapocalyptic world, rag-doll robots hi...</td>\n",
              "    </tr>\n",
              "    <tr>\n",
              "      <th>4</th>\n",
              "      <td>s5</td>\n",
              "      <td>Movie</td>\n",
              "      <td>21</td>\n",
              "      <td>Robert Luketic</td>\n",
              "      <td>Jim Sturgess, Kevin Spacey, Kate Bosworth, Aar...</td>\n",
              "      <td>United States</td>\n",
              "      <td>January 1, 2020</td>\n",
              "      <td>2008</td>\n",
              "      <td>PG-13</td>\n",
              "      <td>123 min</td>\n",
              "      <td>Dramas</td>\n",
              "      <td>A brilliant group of students become card-coun...</td>\n",
              "    </tr>\n",
              "  </tbody>\n",
              "</table>\n",
              "</div>"
            ],
            "text/plain": [
              "  show_id     type  title           director  \\\n",
              "0      s1  TV Show     3%                NaN   \n",
              "1      s2    Movie   7:19  Jorge Michel Grau   \n",
              "2      s3    Movie  23:59       Gilbert Chan   \n",
              "3      s4    Movie      9        Shane Acker   \n",
              "4      s5    Movie     21     Robert Luketic   \n",
              "\n",
              "                                                cast        country  \\\n",
              "0  João Miguel, Bianca Comparato, Michel Gomes, R...         Brazil   \n",
              "1  Demián Bichir, Héctor Bonilla, Oscar Serrano, ...         Mexico   \n",
              "2  Tedd Chan, Stella Chung, Henley Hii, Lawrence ...      Singapore   \n",
              "3  Elijah Wood, John C. Reilly, Jennifer Connelly...  United States   \n",
              "4  Jim Sturgess, Kevin Spacey, Kate Bosworth, Aar...  United States   \n",
              "\n",
              "          date_added  release_year rating   duration  \\\n",
              "0    August 14, 2020          2020  TV-MA  4 Seasons   \n",
              "1  December 23, 2016          2016  TV-MA     93 min   \n",
              "2  December 20, 2018          2011      R     78 min   \n",
              "3  November 16, 2017          2009  PG-13     80 min   \n",
              "4    January 1, 2020          2008  PG-13    123 min   \n",
              "\n",
              "                                           listed_in  \\\n",
              "0  International TV Shows, TV Dramas, TV Sci-Fi &...   \n",
              "1                       Dramas, International Movies   \n",
              "2                Horror Movies, International Movies   \n",
              "3  Action & Adventure, Independent Movies, Sci-Fi...   \n",
              "4                                             Dramas   \n",
              "\n",
              "                                         description  \n",
              "0  In a future where the elite inhabit an island ...  \n",
              "1  After a devastating earthquake hits Mexico Cit...  \n",
              "2  When an army recruit is found dead, his fellow...  \n",
              "3  In a postapocalyptic world, rag-doll robots hi...  \n",
              "4  A brilliant group of students become card-coun...  "
            ]
          },
          "execution_count": 75,
          "metadata": {},
          "output_type": "execute_result"
        }
      ],
      "source": [
        "df.head()"
      ]
    },
    {
      "cell_type": "code",
      "execution_count": 76,
      "metadata": {},
      "outputs": [
        {
          "name": "stdout",
          "output_type": "stream",
          "text": [
            "<class 'pandas.core.frame.DataFrame'>\n",
            "RangeIndex: 7787 entries, 0 to 7786\n",
            "Data columns (total 12 columns):\n",
            " #   Column        Non-Null Count  Dtype \n",
            "---  ------        --------------  ----- \n",
            " 0   show_id       7787 non-null   object\n",
            " 1   type          7787 non-null   object\n",
            " 2   title         7787 non-null   object\n",
            " 3   director      5398 non-null   object\n",
            " 4   cast          7069 non-null   object\n",
            " 5   country       7280 non-null   object\n",
            " 6   date_added    7777 non-null   object\n",
            " 7   release_year  7787 non-null   int64 \n",
            " 8   rating        7780 non-null   object\n",
            " 9   duration      7787 non-null   object\n",
            " 10  listed_in     7787 non-null   object\n",
            " 11  description   7787 non-null   object\n",
            "dtypes: int64(1), object(11)\n",
            "memory usage: 730.2+ KB\n"
          ]
        }
      ],
      "source": [
        "df.info()"
      ]
    },
    {
      "cell_type": "markdown",
      "metadata": {},
      "source": [
        "### DATA PRE-PROCESSING"
      ]
    },
    {
      "cell_type": "code",
      "execution_count": 77,
      "metadata": {},
      "outputs": [
        {
          "name": "stdout",
          "output_type": "stream",
          "text": [
            "<class 'pandas.core.frame.DataFrame'>\n",
            "RangeIndex: 7787 entries, 0 to 7786\n",
            "Data columns (total 12 columns):\n",
            " #   Column        Non-Null Count  Dtype \n",
            "---  ------        --------------  ----- \n",
            " 0   show_id       7787 non-null   object\n",
            " 1   type          7787 non-null   object\n",
            " 2   title         7787 non-null   object\n",
            " 3   director      5398 non-null   object\n",
            " 4   cast          7069 non-null   object\n",
            " 5   country       7280 non-null   object\n",
            " 6   date_added    7777 non-null   object\n",
            " 7   release_year  7787 non-null   int64 \n",
            " 8   rating        7780 non-null   object\n",
            " 9   duration      7787 non-null   object\n",
            " 10  listed_in     7787 non-null   object\n",
            " 11  description   7787 non-null   object\n",
            "dtypes: int64(1), object(11)\n",
            "memory usage: 730.2+ KB\n"
          ]
        }
      ],
      "source": [
        "df.info()"
      ]
    },
    {
      "cell_type": "code",
      "execution_count": 78,
      "metadata": {},
      "outputs": [],
      "source": [
        "df_cleaned = df.drop(columns=[\"show_id\", \"title\", \"description\"])\n"
      ]
    },
    {
      "cell_type": "code",
      "execution_count": 79,
      "metadata": {},
      "outputs": [
        {
          "name": "stdout",
          "output_type": "stream",
          "text": [
            "<class 'pandas.core.frame.DataFrame'>\n",
            "RangeIndex: 7787 entries, 0 to 7786\n",
            "Data columns (total 9 columns):\n",
            " #   Column        Non-Null Count  Dtype \n",
            "---  ------        --------------  ----- \n",
            " 0   type          7787 non-null   object\n",
            " 1   director      5398 non-null   object\n",
            " 2   cast          7069 non-null   object\n",
            " 3   country       7280 non-null   object\n",
            " 4   date_added    7777 non-null   object\n",
            " 5   release_year  7787 non-null   int64 \n",
            " 6   rating        7780 non-null   object\n",
            " 7   duration      7787 non-null   object\n",
            " 8   listed_in     7787 non-null   object\n",
            "dtypes: int64(1), object(8)\n",
            "memory usage: 547.6+ KB\n"
          ]
        }
      ],
      "source": [
        "df_cleaned.info()"
      ]
    },
    {
      "cell_type": "code",
      "execution_count": 80,
      "metadata": {},
      "outputs": [],
      "source": [
        "# Filling missing values\n",
        "\n",
        "categorical_cols = [\"director\", \"cast\", \"country\", \"date_added\", \"rating\"]\n",
        "df_cleaned[categorical_cols] = df_cleaned[categorical_cols].fillna(\"Unknown\")"
      ]
    },
    {
      "cell_type": "code",
      "execution_count": 81,
      "metadata": {},
      "outputs": [
        {
          "name": "stdout",
          "output_type": "stream",
          "text": [
            "<class 'pandas.core.frame.DataFrame'>\n",
            "RangeIndex: 7787 entries, 0 to 7786\n",
            "Data columns (total 9 columns):\n",
            " #   Column        Non-Null Count  Dtype \n",
            "---  ------        --------------  ----- \n",
            " 0   type          7787 non-null   object\n",
            " 1   director      7787 non-null   object\n",
            " 2   cast          7787 non-null   object\n",
            " 3   country       7787 non-null   object\n",
            " 4   date_added    7787 non-null   object\n",
            " 5   release_year  7787 non-null   int64 \n",
            " 6   rating        7787 non-null   object\n",
            " 7   duration      7787 non-null   object\n",
            " 8   listed_in     7787 non-null   object\n",
            "dtypes: int64(1), object(8)\n",
            "memory usage: 547.6+ KB\n"
          ]
        }
      ],
      "source": [
        "df_cleaned.info()"
      ]
    },
    {
      "cell_type": "code",
      "execution_count": 82,
      "metadata": {},
      "outputs": [
        {
          "name": "stderr",
          "output_type": "stream",
          "text": [
            "<ipython-input-82-7aaad63e170b>:14: FutureWarning: A value is trying to be set on a copy of a DataFrame or Series through chained assignment using an inplace method.\n",
            "The behavior will change in pandas 3.0. This inplace method will never work because the intermediate object on which we are setting values always behaves as a copy.\n",
            "\n",
            "For example, when doing 'df[col].method(value, inplace=True)', try using 'df.method({col: value}, inplace=True)' or df[col] = df[col].method(value) instead, to perform the operation inplace on the original object.\n",
            "\n",
            "\n",
            "  df_cleaned[\"duration\"].fillna(df_cleaned[\"duration\"].median(), inplace=True)  # Filling missing duration values\n"
          ]
        }
      ],
      "source": [
        "# Convert duration to numerical values\n",
        "import numpy as np\n",
        "\n",
        "\n",
        "def convert_duration(value):\n",
        "    if isinstance(value, str):\n",
        "        if \"Season\" in value:\n",
        "            return int(value.split()[0]) * 60  # Convert seasons to minutes\n",
        "        elif \"min\" in value:\n",
        "            return int(value.split()[0])  # Extract minute values\n",
        "    return np.nan\n",
        "\n",
        "df_cleaned[\"duration\"] = df_cleaned[\"duration\"].apply(convert_duration)\n",
        "df_cleaned[\"duration\"].fillna(df_cleaned[\"duration\"].median(), inplace=True)  # Filling missing duration values\n"
      ]
    },
    {
      "cell_type": "code",
      "execution_count": 83,
      "metadata": {},
      "outputs": [],
      "source": [
        "# Extract individual genres from `listed_in` column\n",
        "df_cleaned[\"listed_in\"] = df_cleaned[\"listed_in\"].fillna(\"Unknown\")\n",
        "unique_genres = set(genre.strip() for sublist in df_cleaned[\"listed_in\"].dropna().str.split(\",\") for genre in sublist)\n",
        "for genre in unique_genres:\n",
        "    df_cleaned[genre] = df_cleaned[\"listed_in\"].str.contains(genre, case=False, na=False).astype(int)\n",
        "\n",
        "# Drop categorical text columns and `listed_in`\n",
        "df_cleaned.drop(columns=[\"director\", \"cast\", \"date_added\", \"listed_in\"], inplace=True)"
      ]
    },
    {
      "cell_type": "code",
      "execution_count": 84,
      "metadata": {},
      "outputs": [],
      "source": [
        "# Encode categorical variables\n",
        "\n",
        "from sklearn.calibration import LabelEncoder\n",
        "\n",
        "\n",
        "df_cleaned[\"type\"] = df_cleaned[\"type\"].map({\"Movie\": 0, \"TV Show\": 1})\n",
        "label_encoder = LabelEncoder()\n",
        "df_cleaned[\"rating\"] = label_encoder.fit_transform(df_cleaned[\"rating\"])\n",
        "df_cleaned[\"country\"] = label_encoder.fit_transform(df_cleaned[\"country\"])"
      ]
    },
    {
      "cell_type": "code",
      "execution_count": 85,
      "metadata": {},
      "outputs": [
        {
          "data": {
            "text/plain": [
              "type                            0\n",
              "country                         0\n",
              "release_year                    0\n",
              "rating                          0\n",
              "duration                        0\n",
              "Romantic TV Shows               0\n",
              "Anime Series                    0\n",
              "Documentaries                   0\n",
              "Comedies                        0\n",
              "TV Shows                        0\n",
              "Horror Movies                   0\n",
              "Faith & Spirituality            0\n",
              "Sci-Fi & Fantasy                0\n",
              "Thrillers                       0\n",
              "TV Action & Adventure           0\n",
              "Independent Movies              0\n",
              "TV Thrillers                    0\n",
              "International Movies            0\n",
              "LGBTQ Movies                    0\n",
              "Docuseries                      0\n",
              "Action & Adventure              0\n",
              "Science & Nature TV             0\n",
              "Korean TV Shows                 0\n",
              "Stand-Up Comedy                 0\n",
              "Stand-Up Comedy & Talk Shows    0\n",
              "TV Sci-Fi & Fantasy             0\n",
              "Kids' TV                        0\n",
              "Dramas                          0\n",
              "Children & Family Movies        0\n",
              "TV Horror                       0\n",
              "Crime TV Shows                  0\n",
              "Classic & Cult TV               0\n",
              "British TV Shows                0\n",
              "Anime Features                  0\n",
              "Reality TV                      0\n",
              "Cult Movies                     0\n",
              "Classic Movies                  0\n",
              "Sports Movies                   0\n",
              "Romantic Movies                 0\n",
              "Spanish-Language TV Shows       0\n",
              "TV Dramas                       0\n",
              "Teen TV Shows                   0\n",
              "TV Comedies                     0\n",
              "Music & Musicals                0\n",
              "Movies                          0\n",
              "TV Mysteries                    0\n",
              "International TV Shows          0\n",
              "dtype: int64"
            ]
          },
          "execution_count": 85,
          "metadata": {},
          "output_type": "execute_result"
        }
      ],
      "source": [
        "df_cleaned.isnull().sum()"
      ]
    },
    {
      "cell_type": "markdown",
      "metadata": {
        "id": "pij_Z6D6A1iW"
      },
      "source": [
        "### 1. Apply dimensionality reduction using Principal Component Analysis\n",
        "- Use the necessary number of principal components"
      ]
    },
    {
      "cell_type": "code",
      "execution_count": 86,
      "metadata": {},
      "outputs": [],
      "source": [
        "from sklearn.discriminant_analysis import StandardScaler\n",
        "\n",
        "\n",
        "scaler = StandardScaler()\n",
        "df_scaled = scaler.fit_transform(df_cleaned)"
      ]
    },
    {
      "cell_type": "code",
      "execution_count": 87,
      "metadata": {},
      "outputs": [],
      "source": [
        "# Apply PCA\n",
        "from sklearn.decomposition import PCA\n",
        "\n",
        "\n",
        "pca = PCA(n_components=20)\n",
        "pca_result = pca.fit_transform(df_scaled)\n"
      ]
    },
    {
      "cell_type": "markdown",
      "metadata": {
        "id": "JmItdBGFBHoO"
      },
      "source": [
        "### 2. Create a scree plot for each principal component"
      ]
    },
    {
      "cell_type": "code",
      "execution_count": 88,
      "metadata": {},
      "outputs": [
        {
          "data": {
            "image/png": "[encoded data removed]",
            "text/plain": [
              "<Figure size 720x360 with 1 Axes>"
            ]
          },
          "metadata": {
            "needs_background": "light"
          },
          "output_type": "display_data"
        }
      ],
      "source": [
        "# Scree plot for PCA variance\n",
        "from matplotlib import pyplot as plt\n",
        "\n",
        "\n",
        "explained_variance = pca.explained_variance_ratio_\n",
        "cumulative_variance = np.cumsum(explained_variance)\n",
        "\n",
        "# Determine optimal components\n",
        "optimal_components = np.argmax(cumulative_variance >= 0.90) + 1\n",
        "\n",
        "# Apply PCA with optimal components\n",
        "pca_optimal = PCA(n_components=optimal_components)\n",
        "pca_result_optimal = pca_optimal.fit_transform(df_scaled)\n",
        "\n",
        "# Create a Scree Plot\n",
        "plt.figure(figsize=(10, 5))\n",
        "plt.plot(range(1, 21), np.cumsum(explained_variance), marker='o', linestyle='--', color='b')\n",
        "plt.xlabel(\"Number of Principal Components\")\n",
        "plt.ylabel(\"Cumulative Explained Variance\")\n",
        "plt.title(\"Scree Plot of Principal Components\")\n",
        "plt.grid(True)\n",
        "plt.show()"
      ]
    },
    {
      "cell_type": "markdown",
      "metadata": {
        "id": "7CjW0nZtBDAk"
      },
      "source": [
        "### 3. Use any clustering algorithm to create clusters"
      ]
    },
    {
      "cell_type": "code",
      "execution_count": 89,
      "metadata": {},
      "outputs": [
        {
          "data": {
            "image/png": "[encoded data removed]",
            "text/plain": [
              "<Figure size 720x360 with 1 Axes>"
            ]
          },
          "metadata": {
            "needs_background": "light"
          },
          "output_type": "display_data"
        }
      ],
      "source": [
        "# Compute SSE (Sum of Squared Errors) for different cluster sizes\n",
        "from sklearn.cluster import KMeans\n",
        "SSE = []\n",
        "\n",
        "for k in range(1, 16):\n",
        "    kmeans = KMeans(n_clusters=k, init='k-means++', random_state=42, n_init=10)\n",
        "    kmeans.fit(pca_result_optimal)\n",
        "    SSE.append(kmeans.inertia_)\n",
        "\n",
        "# Plot the Elbow Method\n",
        "plt.figure(figsize=(10, 5))\n",
        "plt.plot(range(1, 16), SSE, marker='o', linestyle='--', color='b')\n",
        "plt.title('The Elbow Method - KMeans Clustering')\n",
        "plt.xlabel('Number of Clusters')\n",
        "plt.ylabel('Sum of Squared Errors (SSE)')\n",
        "plt.grid(True)\n",
        "plt.show()\n"
      ]
    },
    {
      "cell_type": "code",
      "execution_count": 90,
      "metadata": {},
      "outputs": [
        {
          "data": {
            "image/png": "[encoded data removed]",
            "text/plain": [
              "<Figure size 576x360 with 1 Axes>"
            ]
          },
          "metadata": {
            "needs_background": "light"
          },
          "output_type": "display_data"
        }
      ],
      "source": [
        "import seaborn as sns\n",
        "\n",
        "# Apply K-Means clustering with K=4 (chosen from the Elbow Method)\n",
        "final_k = 3\n",
        "kmeans = KMeans(n_clusters=final_k, init='k-means++', random_state=42, n_init=10)\n",
        "kmeans.fit(pca_result_optimal)\n",
        "\n",
        "# Add K-Means cluster labels to the dataset\n",
        "df['kmeans_cluster'] = kmeans.labels_\n",
        "\n",
        "plt.figure(figsize=(8, 5))\n",
        "graph = sns.countplot(x='kmeans_cluster', data=df, hue='type')\n",
        "plt.title(\"Number of Movies and TV Shows in Each Cluster - KMeans Clustering\")\n",
        "\n",
        "for p in graph.patches:\n",
        "    graph.annotate(format(p.get_height(), '.0f'), (p.get_x() + p.get_width() / 2., p.get_height()), \n",
        "                   ha='center', va='center', xytext=(0, 5), textcoords='offset points')\n",
        "\n",
        "plt.show()\n"
      ]
    },
    {
      "cell_type": "markdown",
      "metadata": {},
      "source": [
        "#### cluster 0"
      ]
    },
    {
      "cell_type": "code",
      "execution_count": 91,
      "metadata": {},
      "outputs": [
        {
          "data": {
            "text/html": [
              "<div>\n",
              "<style scoped>\n",
              "    .dataframe tbody tr th:only-of-type {\n",
              "        vertical-align: middle;\n",
              "    }\n",
              "\n",
              "    .dataframe tbody tr th {\n",
              "        vertical-align: top;\n",
              "    }\n",
              "\n",
              "    .dataframe thead th {\n",
              "        text-align: right;\n",
              "    }\n",
              "</style>\n",
              "<table border=\"1\" class=\"dataframe\">\n",
              "  <thead>\n",
              "    <tr style=\"text-align: right;\">\n",
              "      <th></th>\n",
              "      <th>show_id</th>\n",
              "      <th>type</th>\n",
              "      <th>title</th>\n",
              "      <th>director</th>\n",
              "      <th>cast</th>\n",
              "      <th>country</th>\n",
              "      <th>date_added</th>\n",
              "      <th>release_year</th>\n",
              "      <th>rating</th>\n",
              "      <th>duration</th>\n",
              "      <th>listed_in</th>\n",
              "      <th>description</th>\n",
              "      <th>kmeans_cluster</th>\n",
              "    </tr>\n",
              "  </thead>\n",
              "  <tbody>\n",
              "    <tr>\n",
              "      <th>1</th>\n",
              "      <td>s2</td>\n",
              "      <td>Movie</td>\n",
              "      <td>7:19</td>\n",
              "      <td>Jorge Michel Grau</td>\n",
              "      <td>Demián Bichir, Héctor Bonilla, Oscar Serrano, ...</td>\n",
              "      <td>Mexico</td>\n",
              "      <td>December 23, 2016</td>\n",
              "      <td>2016</td>\n",
              "      <td>TV-MA</td>\n",
              "      <td>93 min</td>\n",
              "      <td>Dramas, International Movies</td>\n",
              "      <td>After a devastating earthquake hits Mexico Cit...</td>\n",
              "      <td>0</td>\n",
              "    </tr>\n",
              "    <tr>\n",
              "      <th>2</th>\n",
              "      <td>s3</td>\n",
              "      <td>Movie</td>\n",
              "      <td>23:59</td>\n",
              "      <td>Gilbert Chan</td>\n",
              "      <td>Tedd Chan, Stella Chung, Henley Hii, Lawrence ...</td>\n",
              "      <td>Singapore</td>\n",
              "      <td>December 20, 2018</td>\n",
              "      <td>2011</td>\n",
              "      <td>R</td>\n",
              "      <td>78 min</td>\n",
              "      <td>Horror Movies, International Movies</td>\n",
              "      <td>When an army recruit is found dead, his fellow...</td>\n",
              "      <td>0</td>\n",
              "    </tr>\n",
              "    <tr>\n",
              "      <th>3</th>\n",
              "      <td>s4</td>\n",
              "      <td>Movie</td>\n",
              "      <td>9</td>\n",
              "      <td>Shane Acker</td>\n",
              "      <td>Elijah Wood, John C. Reilly, Jennifer Connelly...</td>\n",
              "      <td>United States</td>\n",
              "      <td>November 16, 2017</td>\n",
              "      <td>2009</td>\n",
              "      <td>PG-13</td>\n",
              "      <td>80 min</td>\n",
              "      <td>Action &amp; Adventure, Independent Movies, Sci-Fi...</td>\n",
              "      <td>In a postapocalyptic world, rag-doll robots hi...</td>\n",
              "      <td>0</td>\n",
              "    </tr>\n",
              "    <tr>\n",
              "      <th>6</th>\n",
              "      <td>s7</td>\n",
              "      <td>Movie</td>\n",
              "      <td>122</td>\n",
              "      <td>Yasir Al Yasiri</td>\n",
              "      <td>Amina Khalil, Ahmed Dawood, Tarek Lotfy, Ahmed...</td>\n",
              "      <td>Egypt</td>\n",
              "      <td>June 1, 2020</td>\n",
              "      <td>2019</td>\n",
              "      <td>TV-MA</td>\n",
              "      <td>95 min</td>\n",
              "      <td>Horror Movies, International Movies</td>\n",
              "      <td>After an awful accident, a couple admitted to ...</td>\n",
              "      <td>0</td>\n",
              "    </tr>\n",
              "    <tr>\n",
              "      <th>8</th>\n",
              "      <td>s9</td>\n",
              "      <td>Movie</td>\n",
              "      <td>706</td>\n",
              "      <td>Shravan Kumar</td>\n",
              "      <td>Divya Dutta, Atul Kulkarni, Mohan Agashe, Anup...</td>\n",
              "      <td>India</td>\n",
              "      <td>April 1, 2019</td>\n",
              "      <td>2019</td>\n",
              "      <td>TV-14</td>\n",
              "      <td>118 min</td>\n",
              "      <td>Horror Movies, International Movies</td>\n",
              "      <td>When a doctor goes missing, his psychiatrist w...</td>\n",
              "      <td>0</td>\n",
              "    </tr>\n",
              "  </tbody>\n",
              "</table>\n",
              "</div>"
            ],
            "text/plain": [
              "  show_id   type  title           director  \\\n",
              "1      s2  Movie   7:19  Jorge Michel Grau   \n",
              "2      s3  Movie  23:59       Gilbert Chan   \n",
              "3      s4  Movie      9        Shane Acker   \n",
              "6      s7  Movie    122    Yasir Al Yasiri   \n",
              "8      s9  Movie    706      Shravan Kumar   \n",
              "\n",
              "                                                cast        country  \\\n",
              "1  Demián Bichir, Héctor Bonilla, Oscar Serrano, ...         Mexico   \n",
              "2  Tedd Chan, Stella Chung, Henley Hii, Lawrence ...      Singapore   \n",
              "3  Elijah Wood, John C. Reilly, Jennifer Connelly...  United States   \n",
              "6  Amina Khalil, Ahmed Dawood, Tarek Lotfy, Ahmed...          Egypt   \n",
              "8  Divya Dutta, Atul Kulkarni, Mohan Agashe, Anup...          India   \n",
              "\n",
              "          date_added  release_year rating duration  \\\n",
              "1  December 23, 2016          2016  TV-MA   93 min   \n",
              "2  December 20, 2018          2011      R   78 min   \n",
              "3  November 16, 2017          2009  PG-13   80 min   \n",
              "6       June 1, 2020          2019  TV-MA   95 min   \n",
              "8      April 1, 2019          2019  TV-14  118 min   \n",
              "\n",
              "                                           listed_in  \\\n",
              "1                       Dramas, International Movies   \n",
              "2                Horror Movies, International Movies   \n",
              "3  Action & Adventure, Independent Movies, Sci-Fi...   \n",
              "6                Horror Movies, International Movies   \n",
              "8                Horror Movies, International Movies   \n",
              "\n",
              "                                         description  kmeans_cluster  \n",
              "1  After a devastating earthquake hits Mexico Cit...               0  \n",
              "2  When an army recruit is found dead, his fellow...               0  \n",
              "3  In a postapocalyptic world, rag-doll robots hi...               0  \n",
              "6  After an awful accident, a couple admitted to ...               0  \n",
              "8  When a doctor goes missing, his psychiatrist w...               0  "
            ]
          },
          "execution_count": 91,
          "metadata": {},
          "output_type": "execute_result"
        }
      ],
      "source": [
        "df[df[\"kmeans_cluster\"] == 0].head()\n"
      ]
    },
    {
      "cell_type": "markdown",
      "metadata": {},
      "source": [
        "#### cluster 1"
      ]
    },
    {
      "cell_type": "code",
      "execution_count": 92,
      "metadata": {},
      "outputs": [
        {
          "data": {
            "text/html": [
              "<div>\n",
              "<style scoped>\n",
              "    .dataframe tbody tr th:only-of-type {\n",
              "        vertical-align: middle;\n",
              "    }\n",
              "\n",
              "    .dataframe tbody tr th {\n",
              "        vertical-align: top;\n",
              "    }\n",
              "\n",
              "    .dataframe thead th {\n",
              "        text-align: right;\n",
              "    }\n",
              "</style>\n",
              "<table border=\"1\" class=\"dataframe\">\n",
              "  <thead>\n",
              "    <tr style=\"text-align: right;\">\n",
              "      <th></th>\n",
              "      <th>show_id</th>\n",
              "      <th>type</th>\n",
              "      <th>title</th>\n",
              "      <th>director</th>\n",
              "      <th>cast</th>\n",
              "      <th>country</th>\n",
              "      <th>date_added</th>\n",
              "      <th>release_year</th>\n",
              "      <th>rating</th>\n",
              "      <th>duration</th>\n",
              "      <th>listed_in</th>\n",
              "      <th>description</th>\n",
              "      <th>kmeans_cluster</th>\n",
              "    </tr>\n",
              "  </thead>\n",
              "  <tbody>\n",
              "    <tr>\n",
              "      <th>0</th>\n",
              "      <td>s1</td>\n",
              "      <td>TV Show</td>\n",
              "      <td>3%</td>\n",
              "      <td>NaN</td>\n",
              "      <td>João Miguel, Bianca Comparato, Michel Gomes, R...</td>\n",
              "      <td>Brazil</td>\n",
              "      <td>August 14, 2020</td>\n",
              "      <td>2020</td>\n",
              "      <td>TV-MA</td>\n",
              "      <td>4 Seasons</td>\n",
              "      <td>International TV Shows, TV Dramas, TV Sci-Fi &amp;...</td>\n",
              "      <td>In a future where the elite inhabit an island ...</td>\n",
              "      <td>1</td>\n",
              "    </tr>\n",
              "    <tr>\n",
              "      <th>5</th>\n",
              "      <td>s6</td>\n",
              "      <td>TV Show</td>\n",
              "      <td>46</td>\n",
              "      <td>Serdar Akar</td>\n",
              "      <td>Erdal Beşikçioğlu, Yasemin Allen, Melis Birkan...</td>\n",
              "      <td>Turkey</td>\n",
              "      <td>July 1, 2017</td>\n",
              "      <td>2016</td>\n",
              "      <td>TV-MA</td>\n",
              "      <td>1 Season</td>\n",
              "      <td>International TV Shows, TV Dramas, TV Mysteries</td>\n",
              "      <td>A genetics professor experiments with a treatm...</td>\n",
              "      <td>1</td>\n",
              "    </tr>\n",
              "    <tr>\n",
              "      <th>11</th>\n",
              "      <td>s12</td>\n",
              "      <td>TV Show</td>\n",
              "      <td>1983</td>\n",
              "      <td>NaN</td>\n",
              "      <td>Robert Więckiewicz, Maciej Musiał, Michalina O...</td>\n",
              "      <td>Poland, United States</td>\n",
              "      <td>November 30, 2018</td>\n",
              "      <td>2018</td>\n",
              "      <td>TV-MA</td>\n",
              "      <td>1 Season</td>\n",
              "      <td>Crime TV Shows, International TV Shows, TV Dramas</td>\n",
              "      <td>In this dark alt-history thriller, a naïve law...</td>\n",
              "      <td>1</td>\n",
              "    </tr>\n",
              "    <tr>\n",
              "      <th>12</th>\n",
              "      <td>s13</td>\n",
              "      <td>TV Show</td>\n",
              "      <td>1994</td>\n",
              "      <td>Diego Enrique Osorno</td>\n",
              "      <td>NaN</td>\n",
              "      <td>Mexico</td>\n",
              "      <td>May 17, 2019</td>\n",
              "      <td>2019</td>\n",
              "      <td>TV-MA</td>\n",
              "      <td>1 Season</td>\n",
              "      <td>Crime TV Shows, Docuseries, International TV S...</td>\n",
              "      <td>Archival video and new interviews examine Mexi...</td>\n",
              "      <td>1</td>\n",
              "    </tr>\n",
              "    <tr>\n",
              "      <th>16</th>\n",
              "      <td>s17</td>\n",
              "      <td>TV Show</td>\n",
              "      <td>Feb-09</td>\n",
              "      <td>NaN</td>\n",
              "      <td>Shahd El Yaseen, Shaila Sabt, Hala, Hanadi Al-...</td>\n",
              "      <td>NaN</td>\n",
              "      <td>March 20, 2019</td>\n",
              "      <td>2018</td>\n",
              "      <td>TV-14</td>\n",
              "      <td>1 Season</td>\n",
              "      <td>International TV Shows, TV Dramas</td>\n",
              "      <td>As a psychology professor faces Alzheimer's, h...</td>\n",
              "      <td>1</td>\n",
              "    </tr>\n",
              "  </tbody>\n",
              "</table>\n",
              "</div>"
            ],
            "text/plain": [
              "   show_id     type   title              director  \\\n",
              "0       s1  TV Show      3%                   NaN   \n",
              "5       s6  TV Show      46           Serdar Akar   \n",
              "11     s12  TV Show    1983                   NaN   \n",
              "12     s13  TV Show    1994  Diego Enrique Osorno   \n",
              "16     s17  TV Show  Feb-09                   NaN   \n",
              "\n",
              "                                                 cast                country  \\\n",
              "0   João Miguel, Bianca Comparato, Michel Gomes, R...                 Brazil   \n",
              "5   Erdal Beşikçioğlu, Yasemin Allen, Melis Birkan...                 Turkey   \n",
              "11  Robert Więckiewicz, Maciej Musiał, Michalina O...  Poland, United States   \n",
              "12                                                NaN                 Mexico   \n",
              "16  Shahd El Yaseen, Shaila Sabt, Hala, Hanadi Al-...                    NaN   \n",
              "\n",
              "           date_added  release_year rating   duration  \\\n",
              "0     August 14, 2020          2020  TV-MA  4 Seasons   \n",
              "5        July 1, 2017          2016  TV-MA   1 Season   \n",
              "11  November 30, 2018          2018  TV-MA   1 Season   \n",
              "12       May 17, 2019          2019  TV-MA   1 Season   \n",
              "16     March 20, 2019          2018  TV-14   1 Season   \n",
              "\n",
              "                                            listed_in  \\\n",
              "0   International TV Shows, TV Dramas, TV Sci-Fi &...   \n",
              "5     International TV Shows, TV Dramas, TV Mysteries   \n",
              "11  Crime TV Shows, International TV Shows, TV Dramas   \n",
              "12  Crime TV Shows, Docuseries, International TV S...   \n",
              "16                  International TV Shows, TV Dramas   \n",
              "\n",
              "                                          description  kmeans_cluster  \n",
              "0   In a future where the elite inhabit an island ...               1  \n",
              "5   A genetics professor experiments with a treatm...               1  \n",
              "11  In this dark alt-history thriller, a naïve law...               1  \n",
              "12  Archival video and new interviews examine Mexi...               1  \n",
              "16  As a psychology professor faces Alzheimer's, h...               1  "
            ]
          },
          "execution_count": 92,
          "metadata": {},
          "output_type": "execute_result"
        }
      ],
      "source": [
        "df[df[\"kmeans_cluster\"] == 1].head()\n"
      ]
    },
    {
      "cell_type": "markdown",
      "metadata": {},
      "source": [
        "#### cluster 2"
      ]
    },
    {
      "cell_type": "code",
      "execution_count": 93,
      "metadata": {},
      "outputs": [
        {
          "data": {
            "text/html": [
              "<div>\n",
              "<style scoped>\n",
              "    .dataframe tbody tr th:only-of-type {\n",
              "        vertical-align: middle;\n",
              "    }\n",
              "\n",
              "    .dataframe tbody tr th {\n",
              "        vertical-align: top;\n",
              "    }\n",
              "\n",
              "    .dataframe thead th {\n",
              "        text-align: right;\n",
              "    }\n",
              "</style>\n",
              "<table border=\"1\" class=\"dataframe\">\n",
              "  <thead>\n",
              "    <tr style=\"text-align: right;\">\n",
              "      <th></th>\n",
              "      <th>show_id</th>\n",
              "      <th>type</th>\n",
              "      <th>title</th>\n",
              "      <th>director</th>\n",
              "      <th>cast</th>\n",
              "      <th>country</th>\n",
              "      <th>date_added</th>\n",
              "      <th>release_year</th>\n",
              "      <th>rating</th>\n",
              "      <th>duration</th>\n",
              "      <th>listed_in</th>\n",
              "      <th>description</th>\n",
              "      <th>kmeans_cluster</th>\n",
              "    </tr>\n",
              "  </thead>\n",
              "  <tbody>\n",
              "    <tr>\n",
              "      <th>4</th>\n",
              "      <td>s5</td>\n",
              "      <td>Movie</td>\n",
              "      <td>21</td>\n",
              "      <td>Robert Luketic</td>\n",
              "      <td>Jim Sturgess, Kevin Spacey, Kate Bosworth, Aar...</td>\n",
              "      <td>United States</td>\n",
              "      <td>January 1, 2020</td>\n",
              "      <td>2008</td>\n",
              "      <td>PG-13</td>\n",
              "      <td>123 min</td>\n",
              "      <td>Dramas</td>\n",
              "      <td>A brilliant group of students become card-coun...</td>\n",
              "      <td>2</td>\n",
              "    </tr>\n",
              "    <tr>\n",
              "      <th>7</th>\n",
              "      <td>s8</td>\n",
              "      <td>Movie</td>\n",
              "      <td>187</td>\n",
              "      <td>Kevin Reynolds</td>\n",
              "      <td>Samuel L. Jackson, John Heard, Kelly Rowan, Cl...</td>\n",
              "      <td>United States</td>\n",
              "      <td>November 1, 2019</td>\n",
              "      <td>1997</td>\n",
              "      <td>R</td>\n",
              "      <td>119 min</td>\n",
              "      <td>Dramas</td>\n",
              "      <td>After one of his high school students attacks ...</td>\n",
              "      <td>2</td>\n",
              "    </tr>\n",
              "    <tr>\n",
              "      <th>10</th>\n",
              "      <td>s11</td>\n",
              "      <td>Movie</td>\n",
              "      <td>1922</td>\n",
              "      <td>Zak Hilditch</td>\n",
              "      <td>Thomas Jane, Molly Parker, Dylan Schmid, Kaitl...</td>\n",
              "      <td>United States</td>\n",
              "      <td>October 20, 2017</td>\n",
              "      <td>2017</td>\n",
              "      <td>TV-MA</td>\n",
              "      <td>103 min</td>\n",
              "      <td>Dramas, Thrillers</td>\n",
              "      <td>A farmer pens a confession admitting to his wi...</td>\n",
              "      <td>2</td>\n",
              "    </tr>\n",
              "    <tr>\n",
              "      <th>17</th>\n",
              "      <td>s18</td>\n",
              "      <td>Movie</td>\n",
              "      <td>22-Jul</td>\n",
              "      <td>Paul Greengrass</td>\n",
              "      <td>Anders Danielsen Lie, Jon Øigarden, Jonas Stra...</td>\n",
              "      <td>Norway, Iceland, United States</td>\n",
              "      <td>October 10, 2018</td>\n",
              "      <td>2018</td>\n",
              "      <td>R</td>\n",
              "      <td>144 min</td>\n",
              "      <td>Dramas, Thrillers</td>\n",
              "      <td>After devastating terror attacks in Norway, a ...</td>\n",
              "      <td>2</td>\n",
              "    </tr>\n",
              "    <tr>\n",
              "      <th>25</th>\n",
              "      <td>s26</td>\n",
              "      <td>Movie</td>\n",
              "      <td>(T)ERROR</td>\n",
              "      <td>Lyric R. Cabral, David Felix Sutcliffe</td>\n",
              "      <td>NaN</td>\n",
              "      <td>United States</td>\n",
              "      <td>June 30, 2016</td>\n",
              "      <td>2015</td>\n",
              "      <td>NR</td>\n",
              "      <td>84 min</td>\n",
              "      <td>Documentaries</td>\n",
              "      <td>This real-life look at FBI counterterrorism op...</td>\n",
              "      <td>2</td>\n",
              "    </tr>\n",
              "  </tbody>\n",
              "</table>\n",
              "</div>"
            ],
            "text/plain": [
              "   show_id   type     title                                director  \\\n",
              "4       s5  Movie        21                          Robert Luketic   \n",
              "7       s8  Movie       187                          Kevin Reynolds   \n",
              "10     s11  Movie      1922                            Zak Hilditch   \n",
              "17     s18  Movie    22-Jul                         Paul Greengrass   \n",
              "25     s26  Movie  (T)ERROR  Lyric R. Cabral, David Felix Sutcliffe   \n",
              "\n",
              "                                                 cast  \\\n",
              "4   Jim Sturgess, Kevin Spacey, Kate Bosworth, Aar...   \n",
              "7   Samuel L. Jackson, John Heard, Kelly Rowan, Cl...   \n",
              "10  Thomas Jane, Molly Parker, Dylan Schmid, Kaitl...   \n",
              "17  Anders Danielsen Lie, Jon Øigarden, Jonas Stra...   \n",
              "25                                                NaN   \n",
              "\n",
              "                           country        date_added  release_year rating  \\\n",
              "4                    United States   January 1, 2020          2008  PG-13   \n",
              "7                    United States  November 1, 2019          1997      R   \n",
              "10                   United States  October 20, 2017          2017  TV-MA   \n",
              "17  Norway, Iceland, United States  October 10, 2018          2018      R   \n",
              "25                   United States     June 30, 2016          2015     NR   \n",
              "\n",
              "   duration          listed_in  \\\n",
              "4   123 min             Dramas   \n",
              "7   119 min             Dramas   \n",
              "10  103 min  Dramas, Thrillers   \n",
              "17  144 min  Dramas, Thrillers   \n",
              "25   84 min      Documentaries   \n",
              "\n",
              "                                          description  kmeans_cluster  \n",
              "4   A brilliant group of students become card-coun...               2  \n",
              "7   After one of his high school students attacks ...               2  \n",
              "10  A farmer pens a confession admitting to his wi...               2  \n",
              "17  After devastating terror attacks in Norway, a ...               2  \n",
              "25  This real-life look at FBI counterterrorism op...               2  "
            ]
          },
          "execution_count": 93,
          "metadata": {},
          "output_type": "execute_result"
        }
      ],
      "source": [
        "df[df[\"kmeans_cluster\"] == 2].head()\n"
      ]
    },
    {
      "cell_type": "markdown",
      "metadata": {
        "id": "vCpBgqeWBDc7"
      },
      "source": [
        "#### 4. Profile each cluster that you have generated based on your experiments"
      ]
    },
    {
      "cell_type": "code",
      "execution_count": 94,
      "metadata": {},
      "outputs": [
        {
          "name": "stdout",
          "output_type": "stream",
          "text": [
            "\n",
            "--- Cluster 0 Profile ---\n",
            "\n",
            "Movie Percentage: 100.00%\n",
            "TV Show Percentage: 0.00%\n",
            "\n",
            "Top 5 Genres:\n",
            "listed_in\n",
            "International Movies        2437\n",
            "Dramas                      1830\n",
            "Comedies                    1289\n",
            "Independent Movies           673\n",
            "Children & Family Movies     532\n",
            "Name: count, dtype: int64\n",
            "\n",
            "Top 5 Release Years:\n",
            "release_year\n",
            "2018    513\n",
            "2017    499\n",
            "2016    448\n",
            "2019    412\n",
            "2020    298\n",
            "Name: count, dtype: int64\n"
          ]
        },
        {
          "data": {
            "image/png": "[encoded data removed]",
            "text/plain": [
              "<Figure size 1080x288 with 3 Axes>"
            ]
          },
          "metadata": {
            "needs_background": "light"
          },
          "output_type": "display_data"
        },
        {
          "name": "stdout",
          "output_type": "stream",
          "text": [
            "\n",
            "--- Cluster 1 Profile ---\n",
            "\n",
            "Movie Percentage: 0.00%\n",
            "TV Show Percentage: 100.00%\n",
            "\n",
            "Top 5 Genres:\n",
            "listed_in\n",
            "International TV Shows    1199\n",
            "TV Dramas                  657\n",
            "Crime TV Shows             427\n",
            "Romantic TV Shows          333\n",
            "TV Comedies                332\n",
            "Name: count, dtype: int64\n",
            "\n",
            "Top 5 Release Years:\n",
            "release_year\n",
            "2020    330\n",
            "2019    310\n",
            "2018    283\n",
            "2017    189\n",
            "2016    185\n",
            "Name: count, dtype: int64\n"
          ]
        },
        {
          "data": {
            "image/png": "[encoded data removed]",
            "text/plain": [
              "<Figure size 1080x288 with 3 Axes>"
            ]
          },
          "metadata": {
            "needs_background": "light"
          },
          "output_type": "display_data"
        },
        {
          "name": "stdout",
          "output_type": "stream",
          "text": [
            "\n",
            "--- Cluster 2 Profile ---\n",
            "\n",
            "Movie Percentage: 67.58%\n",
            "TV Show Percentage: 32.42%\n",
            "\n",
            "Top 5 Genres:\n",
            "listed_in\n",
            "Documentaries         389\n",
            "Stand-Up Comedy       329\n",
            "Kids' TV              311\n",
            "Dramas                276\n",
            "Action & Adventure    230\n",
            "Name: count, dtype: int64\n",
            "\n",
            "Top 5 Release Years:\n",
            "release_year\n",
            "2018    325\n",
            "2017    324\n",
            "2019    274\n",
            "2016    249\n",
            "2020    240\n",
            "Name: count, dtype: int64\n"
          ]
        },
        {
          "data": {
            "image/png": "[encoded data removed]",
            "text/plain": [
              "<Figure size 1080x288 with 3 Axes>"
            ]
          },
          "metadata": {
            "needs_background": "light"
          },
          "output_type": "display_data"
        }
      ],
      "source": [
        "import pandas as pd\n",
        "import matplotlib.pyplot as plt\n",
        "\n",
        "clusters = sorted(df[\"kmeans_cluster\"].unique())  # Sort clusters in ascending order\n",
        "\n",
        "# Iterate through each cluster in sorted order\n",
        "for cluster in clusters:\n",
        "    df_cluster = df[df[\"kmeans_cluster\"] == cluster]\n",
        "    print(f\"\\n--- Cluster {cluster} Profile ---\\n\")\n",
        "    \n",
        "    # 1. Movie vs. TV Show distribution\n",
        "    type_counts = df_cluster[\"type\"].value_counts(normalize=True) * 100\n",
        "    print(f\"Movie Percentage: {type_counts.get('Movie', 0):.2f}%\")\n",
        "    print(f\"TV Show Percentage: {type_counts.get('TV Show', 0):.2f}%\")\n",
        "\n",
        "    # 2. Top 5 Genres\n",
        "    top_genres = df_cluster[\"listed_in\"].str.split(\",\").explode().str.strip().value_counts().head(5)\n",
        "    print(\"\\nTop 5 Genres:\")\n",
        "    print(top_genres)\n",
        "\n",
        "    # 3. Top 5 Release Years\n",
        "    top_years = df_cluster[\"release_year\"].value_counts().head(5)\n",
        "    print(\"\\nTop 5 Release Years:\")\n",
        "    print(top_years)\n",
        "\n",
        "    # Visualization for each cluster\n",
        "    fig, axes = plt.subplots(1, 3, figsize=(15, 4))\n",
        "\n",
        "    # Genre Distribution\n",
        "    top_genres.plot(kind=\"bar\", color=\"skyblue\", ax=axes[0])\n",
        "    axes[0].set_title(f\"Top 5 Genres - Cluster {cluster}\")\n",
        "    axes[0].set_ylabel(\"Count\")\n",
        "\n",
        "    # Release Year Distribution\n",
        "    top_years.plot(kind=\"bar\", color=\"lightcoral\", ax=axes[1])\n",
        "    axes[1].set_title(f\"Top 5 Release Years - Cluster {cluster}\")\n",
        "    axes[1].set_ylabel(\"Count\")\n",
        "\n",
        "    # Country Distribution\n",
        "    top_countries.plot(kind=\"bar\", color=\"lightgreen\", ax=axes[2])\n",
        "    axes[2].set_title(f\"Top 5 Countries - Cluster {cluster}\")\n",
        "    axes[2].set_ylabel(\"Count\")\n",
        "\n",
        "    plt.tight_layout()\n",
        "    plt.show()\n"
      ]
    }
  ],
  "metadata": {
    "colab": {
      "authorship_tag": "ABX9TyM58QhgIhOgLNU6V8VFWIVt",
      "include_colab_link": true,
      "provenance": []
    },
    "kernelspec": {
      "display_name": "olympiaCOM222ML",
      "language": "python",
      "name": "python3"
    },
    "language_info": {
      "codemirror_mode": {
        "name": "ipython",
        "version": 3
      },
      "file_extension": ".py",
      "mimetype": "text/x-python",
      "name": "python",
      "nbconvert_exporter": "python",
      "pygments_lexer": "ipython3",
      "version": "3.10.14"
    }
  },
  "nbformat": 4,
  "nbformat_minor": 0
}
